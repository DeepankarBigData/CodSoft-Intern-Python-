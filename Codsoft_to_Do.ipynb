{
 "cells": [
  {
   "cell_type": "markdown",
   "id": "b568fa88",
   "metadata": {},
   "source": [
    "## to do list        Tkinter "
   ]
  },
  {
   "cell_type": "code",
   "execution_count": null,
   "id": "01b3ab79",
   "metadata": {},
   "outputs": [
    {
     "name": "stdout",
     "output_type": "stream",
     "text": [
      "error\n",
      "error\n",
      "error\n",
      "error\n",
      "error\n"
     ]
    }
   ],
   "source": [
    "from tkinter import Tk, Button, Label, Entry, Listbox, font,END,Scrollbar\n",
    "from tkinter import messagebox\n",
    "from datetime import date\n",
    "\n",
    "\n",
    "def get_and_store_name():\n",
    "        entered_name = ins_inp.get()\n",
    "        if ' ' or '' in entered_name:\n",
    "            print(\"error\")\n",
    "        listbox.insert(END,entered_name)\n",
    "        ins_inp.delete(0, 'end')\n",
    "        \n",
    "def del_name():\n",
    "    selected_item = listbox.curselection()\n",
    "  \n",
    "    if selected_item:\n",
    "        # Remove the selected item from the Listbox\n",
    "        listbox.delete(selected_item) \n",
    "        \n",
    "\n",
    "root = Tk()\n",
    "root.title('To Do List')\n",
    "root.minsize(460, 430)\n",
    "root.maxsize(460, 430)\n",
    "root.iconbitmap('dip.ico')\n",
    "root.configure(background='#343434')\n",
    "\n",
    "bold_fonts = font.Font(weight=\"bold\")\n",
    "txt_label = Label(root, text='TO DO LIST', fg='black', bg='#DAF7A6', font=bold_fonts)\n",
    "txt_label.place(x=177,y=10)\n",
    "txt_label = Label(root, text='Deepankar Pawar', fg='#DAF7A6', bg='#343434', font=bold_fonts)\n",
    "txt_label.place(x=154,y=385)\n",
    "\n",
    "# insert\n",
    "ins_inp = Entry(root, width=27,font=('Helvetica', 15))\n",
    "ins_inp.place(x=85,y=47)\n",
    "\n",
    "# Create the \"Add Task\" button with the bold font\n",
    "bold_font = font.Font(weight=\"bold\")\n",
    "store_button = Button(root, text=\"Add Task\", fg='black', bg='#FFC300', command=get_and_store_name, font=bold_font)\n",
    "store_button.place(x=115,y=88)\n",
    "\n",
    "# Create a button to trigger the deletion of a name\n",
    "bold_fontss = font.Font(weight=\"bold\")\n",
    "del_button = Button(root, text=\"Delete Task\", bg='#8DD677' ,command=del_name,font=bold_fontss)\n",
    "del_button.place(x=245,y=88)\n",
    "\n",
    "# Create a listbox to display the names\n",
    "listbox = Listbox(root,width=27, height=10,font=('Helvetica', 15),fg='red')\n",
    "listbox.place(x=85, y=133)\n",
    "\n",
    "# Start the Tkinter event loop\n",
    "root.mainloop()"
   ]
  },
  {
   "cell_type": "code",
   "execution_count": null,
   "id": "06576bef",
   "metadata": {},
   "outputs": [],
   "source": []
  }
 ],
 "metadata": {
  "kernelspec": {
   "display_name": "Python 3 (ipykernel)",
   "language": "python",
   "name": "python3"
  },
  "language_info": {
   "codemirror_mode": {
    "name": "ipython",
    "version": 3
   },
   "file_extension": ".py",
   "mimetype": "text/x-python",
   "name": "python",
   "nbconvert_exporter": "python",
   "pygments_lexer": "ipython3",
   "version": "3.9.13"
  }
 },
 "nbformat": 4,
 "nbformat_minor": 5
}
